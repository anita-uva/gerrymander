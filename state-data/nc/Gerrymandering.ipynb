{
 "cells": [
  {
   "cell_type": "code",
   "execution_count": 2,
   "id": "hearing-vampire",
   "metadata": {},
   "outputs": [
    {
     "name": "stdout",
     "output_type": "stream",
     "text": [
      "Skipping, found downloaded files in \".\\north-carolina-voter-file\" (use force=True to force download)\n"
     ]
    }
   ],
   "source": [
    "import opendatasets as od\n",
    "od.download(\"https://www.kaggle.com/jerimee/north-carolina-voter-file\")"
   ]
  },
  {
   "cell_type": "code",
   "execution_count": 3,
   "id": "macro-review",
   "metadata": {},
   "outputs": [
    {
     "name": "stderr",
     "output_type": "stream",
     "text": [
      "C:\\Users\\KNF\\Miniconda3\\lib\\site-packages\\IPython\\core\\interactiveshell.py:3146: DtypeWarning: Columns (24,33,34,35,36,37,38,40,41,44,45,46,47,48,49,50,51,52,53,54,55,56,57,58,59,60,61,69,70) have mixed types.Specify dtype option on import or set low_memory=False.\n",
      "  has_raised = await self.run_ast_nodes(code_ast.body, cell_name,\n"
     ]
    }
   ],
   "source": [
    "import pandas as pd\n",
    "\n",
    "nc = \"north-carolina-voter-file\\\\ncvoter_Statewide\\\\ncvoter_Statewide.txt\"\n",
    "nc = pd.read_csv(nc, delimiter = '\\t')"
   ]
  },
  {
   "cell_type": "code",
   "execution_count": 5,
   "id": "better-subcommittee",
   "metadata": {},
   "outputs": [
    {
     "name": "stdout",
     "output_type": "stream",
     "text": [
      "county_id\n",
      "county_desc\n",
      "voter_reg_num\n",
      "status_cd\n",
      "voter_status_desc\n",
      "reason_cd\n",
      "voter_status_reason_desc\n",
      "absent_ind\n",
      "name_prefx_cd\n",
      "last_name\n",
      "first_name\n",
      "middle_name\n",
      "name_suffix_lbl\n",
      "res_street_address\n",
      "res_city_desc\n",
      "state_cd\n",
      "zip_code\n",
      "mail_addr1\n",
      "mail_addr2\n",
      "mail_addr3\n",
      "mail_addr4\n",
      "mail_city\n",
      "mail_state\n",
      "mail_zipcode\n",
      "full_phone_number\n",
      "race_code\n",
      "ethnic_code\n",
      "party_cd\n",
      "gender_code\n",
      "birth_age\n",
      "birth_state\n",
      "drivers_lic\n",
      "registr_dt\n",
      "precinct_abbrv\n",
      "precinct_desc\n",
      "municipality_abbrv\n",
      "municipality_desc\n",
      "ward_abbrv\n",
      "ward_desc\n",
      "cong_dist_abbrv\n",
      "super_court_abbrv\n",
      "judic_dist_abbrv\n",
      "nc_senate_abbrv\n",
      "nc_house_abbrv\n",
      "county_commiss_abbrv\n",
      "county_commiss_desc\n",
      "township_abbrv\n",
      "township_desc\n",
      "school_dist_abbrv\n",
      "school_dist_desc\n",
      "fire_dist_abbrv\n",
      "fire_dist_desc\n",
      "water_dist_abbrv\n",
      "water_dist_desc\n",
      "sewer_dist_abbrv\n",
      "sewer_dist_desc\n",
      "sanit_dist_abbrv\n",
      "sanit_dist_desc\n",
      "rescue_dist_abbrv\n",
      "rescue_dist_desc\n",
      "munic_dist_abbrv\n",
      "munic_dist_desc\n",
      "dist_1_abbrv\n",
      "dist_1_desc\n",
      "dist_2_abbrv\n",
      "dist_2_desc\n",
      "confidential_ind\n",
      "birth_year\n",
      "ncid\n",
      "vtd_abbrv\n",
      "vtd_desc\n"
     ]
    }
   ],
   "source": [
    "for col in nc.columns:\n",
    "    print(col)"
   ]
  },
  {
   "cell_type": "code",
   "execution_count": 72,
   "id": "fabulous-oregon",
   "metadata": {},
   "outputs": [
    {
     "data": {
      "text/html": [
       "<div>\n",
       "<style scoped>\n",
       "    .dataframe tbody tr th:only-of-type {\n",
       "        vertical-align: middle;\n",
       "    }\n",
       "\n",
       "    .dataframe tbody tr th {\n",
       "        vertical-align: top;\n",
       "    }\n",
       "\n",
       "    .dataframe thead th {\n",
       "        text-align: right;\n",
       "    }\n",
       "</style>\n",
       "<table border=\"1\" class=\"dataframe\">\n",
       "  <thead>\n",
       "    <tr style=\"text-align: right;\">\n",
       "      <th></th>\n",
       "      <th>cong_dist_abbrv</th>\n",
       "      <th>party_cd</th>\n",
       "      <th>status_cd</th>\n",
       "      <th>precinct_abbrv</th>\n",
       "    </tr>\n",
       "  </thead>\n",
       "  <tbody>\n",
       "    <tr>\n",
       "      <th>0</th>\n",
       "      <td>13.0</td>\n",
       "      <td>UNA</td>\n",
       "      <td>A</td>\n",
       "      <td>08N</td>\n",
       "    </tr>\n",
       "    <tr>\n",
       "      <th>1</th>\n",
       "      <td>13.0</td>\n",
       "      <td>UNA</td>\n",
       "      <td>A</td>\n",
       "      <td>10N</td>\n",
       "    </tr>\n",
       "    <tr>\n",
       "      <th>2</th>\n",
       "      <td>13.0</td>\n",
       "      <td>UNA</td>\n",
       "      <td>A</td>\n",
       "      <td>03S</td>\n",
       "    </tr>\n",
       "    <tr>\n",
       "      <th>3</th>\n",
       "      <td>13.0</td>\n",
       "      <td>UNA</td>\n",
       "      <td>A</td>\n",
       "      <td>124</td>\n",
       "    </tr>\n",
       "    <tr>\n",
       "      <th>4</th>\n",
       "      <td>13.0</td>\n",
       "      <td>DEM</td>\n",
       "      <td>A</td>\n",
       "      <td>08N</td>\n",
       "    </tr>\n",
       "  </tbody>\n",
       "</table>\n",
       "</div>"
      ],
      "text/plain": [
       "   cong_dist_abbrv party_cd status_cd precinct_abbrv\n",
       "0             13.0      UNA         A            08N\n",
       "1             13.0      UNA         A            10N\n",
       "2             13.0      UNA         A            03S\n",
       "3             13.0      UNA         A            124\n",
       "4             13.0      DEM         A            08N"
      ]
     },
     "execution_count": 72,
     "metadata": {},
     "output_type": "execute_result"
    }
   ],
   "source": [
    "cols = ['cong_dist_abbrv',\n",
    "'party_cd',\n",
    "'status_cd',\n",
    "'precinct_abbrv']\n",
    "\n",
    "nc_voters = nc[cols]\n",
    "nc_voters.head()"
   ]
  },
  {
   "cell_type": "code",
   "execution_count": 73,
   "id": "floppy-sheep",
   "metadata": {},
   "outputs": [
    {
     "name": "stderr",
     "output_type": "stream",
     "text": [
      "<ipython-input-73-f6446cbe4359>:6: SettingWithCopyWarning: \n",
      "A value is trying to be set on a copy of a slice from a DataFrame.\n",
      "Try using .loc[row_indexer,col_indexer] = value instead\n",
      "\n",
      "See the caveats in the documentation: https://pandas.pydata.org/pandas-docs/stable/user_guide/indexing.html#returning-a-view-versus-a-copy\n",
      "  nc_voters['party_cd'] = nc_voters['party_cd'].replace(['UNA','DEM','REP','LIB','GRE','CST'],['OTH','DEM','REP','LBT','GRN','CONST'])\n"
     ]
    }
   ],
   "source": [
    "nc_voters['party_cd'].unique()\n",
    "\n",
    "#NC Parties = Undeclared, Constitution, Democratic, Green, Libertarian and Republican\n",
    "#To match our other data, I'm changing to OTH, CONST, DEM, GRN, LBT, and REP\n",
    "\n",
    "nc_voters['party_cd'] = nc_voters['party_cd'].replace(['UNA','DEM','REP','LIB','GRE','CST'],['OTH','DEM','REP','LBT','GRN','CONST'])"
   ]
  },
  {
   "cell_type": "code",
   "execution_count": 74,
   "id": "raised-wisconsin",
   "metadata": {},
   "outputs": [],
   "source": [
    "#keeping only active voters\n",
    "nc_voters = nc_voters[nc_voters['status_cd']=='A']\n",
    "nc_voters = nc_voters.drop(columns='status_cd', axis=1)"
   ]
  },
  {
   "cell_type": "code",
   "execution_count": 145,
   "id": "alternative-coordinator",
   "metadata": {},
   "outputs": [],
   "source": [
    "#Aggregate by county/precinct/party\n",
    "nc_totals = nc_voters.groupby(['cong_dist_abbrv', 'precinct_abbrv','party_cd']).size().reset_index(name='counts')"
   ]
  },
  {
   "cell_type": "code",
   "execution_count": 146,
   "id": "productive-collins",
   "metadata": {},
   "outputs": [
    {
     "data": {
      "text/html": [
       "<div>\n",
       "<style scoped>\n",
       "    .dataframe tbody tr th:only-of-type {\n",
       "        vertical-align: middle;\n",
       "    }\n",
       "\n",
       "    .dataframe tbody tr th {\n",
       "        vertical-align: top;\n",
       "    }\n",
       "\n",
       "    .dataframe thead th {\n",
       "        text-align: right;\n",
       "    }\n",
       "</style>\n",
       "<table border=\"1\" class=\"dataframe\">\n",
       "  <thead>\n",
       "    <tr style=\"text-align: right;\">\n",
       "      <th></th>\n",
       "      <th>cong_dist_abbrv</th>\n",
       "      <th>precinct_abbrv</th>\n",
       "      <th>party_cd</th>\n",
       "      <th>counts</th>\n",
       "      <th>STATE</th>\n",
       "    </tr>\n",
       "  </thead>\n",
       "  <tbody>\n",
       "    <tr>\n",
       "      <th>0</th>\n",
       "      <td>1.0</td>\n",
       "      <td>1.0</td>\n",
       "      <td>DEM</td>\n",
       "      <td>838</td>\n",
       "      <td>NC</td>\n",
       "    </tr>\n",
       "    <tr>\n",
       "      <th>1</th>\n",
       "      <td>1.0</td>\n",
       "      <td>1.0</td>\n",
       "      <td>LBT</td>\n",
       "      <td>8</td>\n",
       "      <td>NC</td>\n",
       "    </tr>\n",
       "    <tr>\n",
       "      <th>2</th>\n",
       "      <td>1.0</td>\n",
       "      <td>1.0</td>\n",
       "      <td>OTH</td>\n",
       "      <td>563</td>\n",
       "      <td>NC</td>\n",
       "    </tr>\n",
       "    <tr>\n",
       "      <th>3</th>\n",
       "      <td>1.0</td>\n",
       "      <td>1.0</td>\n",
       "      <td>REP</td>\n",
       "      <td>880</td>\n",
       "      <td>NC</td>\n",
       "    </tr>\n",
       "    <tr>\n",
       "      <th>4</th>\n",
       "      <td>1.0</td>\n",
       "      <td>2.0</td>\n",
       "      <td>CONST</td>\n",
       "      <td>2</td>\n",
       "      <td>NC</td>\n",
       "    </tr>\n",
       "  </tbody>\n",
       "</table>\n",
       "</div>"
      ],
      "text/plain": [
       "   cong_dist_abbrv precinct_abbrv party_cd  counts STATE\n",
       "0              1.0            1.0      DEM     838    NC\n",
       "1              1.0            1.0      LBT       8    NC\n",
       "2              1.0            1.0      OTH     563    NC\n",
       "3              1.0            1.0      REP     880    NC\n",
       "4              1.0            2.0    CONST       2    NC"
      ]
     },
     "execution_count": 146,
     "metadata": {},
     "output_type": "execute_result"
    }
   ],
   "source": [
    "nc_totals['STATE']='NC'\n",
    "nc_totals.head()"
   ]
  },
  {
   "cell_type": "code",
   "execution_count": 147,
   "id": "favorite-sheep",
   "metadata": {},
   "outputs": [],
   "source": [
    "nc_totals = nc_totals.rename(columns={'cong_dist_abbrv':'DISTRICT', 'precinct_abbrv':'PRECINCT','party_cd':'PARTY','counts':'VOTERS'})\n",
    "nc_totals = nc_totals[['STATE','PRECINCT','DISTRICT','PARTY','VOTERS']]"
   ]
  },
  {
   "cell_type": "code",
   "execution_count": 171,
   "id": "funky-archive",
   "metadata": {},
   "outputs": [],
   "source": [
    "# Inspo from: https://www.youtube.com/watch?v=iOurqfCJwy8\n",
    "# but I changed it so I didn't have to explicitly call the columns in the print statement\n",
    "\n",
    "l = []\n",
    "for col in nc_totals.columns:\n",
    "    x=(col)\n",
    "    l.append(x)\n",
    "\n",
    "with open('ncinsert.sql','w'):\n",
    "    for index, row in nc_totals.iterrows():\n",
    "        print('INSERT INTO precinct'+'('+str(l).strip('[]')+') '+'VALUES('+\n",
    "              '\"'+str(row[str(l[0])])+'\", '+\n",
    "              '\"'+str(row[str(l[1])])+'\", '+\n",
    "              '\"'+str(row[str(l[2])])+'\", '+\n",
    "              '\"'+str(row[str(l[3])])+'\", '+\n",
    "              str(row[str(l[4])])+\n",
    "              ');',file=open('ncinsert.sql','a'))\n",
    "\n",
    "#Adding the begin transactoin and commit lines to the original file\n",
    "with open('ncinsert.sql', 'r') as original: data = original.read()\n",
    "with open('ncinsert.sql', 'w') as modified: modified.write(\"BEGIN TRANSACTION;\\n\" + data + \"COMMIT;\")"
   ]
  },
  {
   "cell_type": "code",
   "execution_count": 174,
   "id": "suitable-attraction",
   "metadata": {},
   "outputs": [
    {
     "name": "stderr",
     "output_type": "stream",
     "text": [
      "C:\\Users\\KNF\\Miniconda3\\lib\\site-packages\\IPython\\core\\interactiveshell.py:3146: DtypeWarning: Columns (4,9,10,11,39) have mixed types.Specify dtype option on import or set low_memory=False.\n",
      "  has_raised = await self.run_ast_nodes(code_ast.body, cell_name,\n"
     ]
    }
   ],
   "source": [
    "od.download(\"https://www.kaggle.com/gabrielaltay/georgia-voter-list-202011\")"
   ]
  },
  {
   "cell_type": "code",
   "execution_count": null,
   "id": "running-interference",
   "metadata": {},
   "outputs": [],
   "source": [
    "path = \"georgia-voter-list-202011\\\\tbl_prod_GABU202012_all.csv\"\n",
    "ga = pd.read_csv(path, sep='|', index_col=False)"
   ]
  },
  {
   "cell_type": "code",
   "execution_count": 176,
   "id": "choice-genome",
   "metadata": {},
   "outputs": [
    {
     "name": "stdout",
     "output_type": "stream",
     "text": [
      "county_code\n",
      "registration_number\n",
      "voter_status\n",
      "residence_city\n",
      "residence_zipcode\n",
      "birthyear\n",
      "registration_date\n",
      "race\n",
      "gender\n",
      "land_district\n",
      "land_lot\n",
      "status_reason\n",
      "county_precinct_id\n",
      "city_precinct_id\n",
      "congressional_district\n",
      "senate_district\n",
      "house_district\n",
      "judicial_district\n",
      "commission_district\n",
      "school_district\n",
      "county_districta_name\n",
      "county_districta_value\n",
      "county_districtb_name\n",
      "county_districtb_value\n",
      "municipal_name\n",
      "municipal_code\n",
      "ward_city_council_name\n",
      "ward_city_council_code\n",
      "city_school_district_name\n",
      "city_school_district_value\n",
      "city_dista_name\n",
      "city_dista_value\n",
      "city_distb_name\n",
      "city_distb_value\n",
      "city_distc_name\n",
      "city_distc_value\n",
      "city_distd_name\n",
      "city_distd_value\n",
      "date_last_voted\n",
      "party_last_voted\n",
      "date_added\n",
      "date_changed\n",
      "district_combo\n",
      "race_desc\n",
      "last_contact_date\n"
     ]
    }
   ],
   "source": [
    "for col in ga.columns:\n",
    "    print(col)"
   ]
  },
  {
   "cell_type": "code",
   "execution_count": null,
   "id": "listed-warning",
   "metadata": {},
   "outputs": [],
   "source": [
    "cols=['voter_status',\n",
    "     'congressional_district',\n",
    "     ]\n",
    "ga = "
   ]
  }
 ],
 "metadata": {
  "kernelspec": {
   "display_name": "Python 3",
   "language": "python",
   "name": "python3"
  },
  "language_info": {
   "codemirror_mode": {
    "name": "ipython",
    "version": 3
   },
   "file_extension": ".py",
   "mimetype": "text/x-python",
   "name": "python",
   "nbconvert_exporter": "python",
   "pygments_lexer": "ipython3",
   "version": "3.8.5"
  }
 },
 "nbformat": 4,
 "nbformat_minor": 5
}
